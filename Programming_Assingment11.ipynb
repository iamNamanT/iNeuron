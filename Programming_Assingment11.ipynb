{
 "cells": [
  {
   "cell_type": "markdown",
   "id": "6088ddb5-840a-4d05-8982-f0f83e7f41af",
   "metadata": {},
   "source": [
    "1. Write a Python program to find words which are greater than given length k?"
   ]
  },
  {
   "cell_type": "code",
   "execution_count": 5,
   "id": "4fbad361-bd40-42ad-8149-de841d184e19",
   "metadata": {},
   "outputs": [
    {
     "name": "stdin",
     "output_type": "stream",
     "text": [
      "Enter the length of word: 3\n"
     ]
    },
    {
     "name": "stdout",
     "output_type": "stream",
     "text": [
      "['This', 'programming', 'assingment', 'fsds', 'batch.']\n"
     ]
    }
   ],
   "source": [
    "def string_k(string,k):\n",
    "    string = []\n",
    "    text = str.split(\" \")\n",
    "    for x in text:\n",
    "        if len(x)>k:\n",
    "            string.append(x)\n",
    "    return string \n",
    "\n",
    "k = int(input(\"Enter the length of word:\"))\n",
    "str = 'This my programming assingment for the fsds batch.'\n",
    "print(string_k(str,k))"
   ]
  },
  {
   "cell_type": "markdown",
   "id": "1ae533cd-cefe-46e2-aa4d-29211ab22436",
   "metadata": {},
   "source": [
    "2. Write a Python program for removing i-th character from a string?"
   ]
  },
  {
   "cell_type": "code",
   "execution_count": 7,
   "id": "c428a73e-64f6-4ee7-b7d2-2a62e62a4181",
   "metadata": {},
   "outputs": [
    {
     "name": "stdout",
     "output_type": "stream",
     "text": [
      "Hello Neuron\n"
     ]
    }
   ],
   "source": [
    "def remove(string, i):\n",
    "    a = string[:i]\n",
    "    b = string[i+1:]\n",
    "    return a+b\n",
    "string = 'Hello iNeuron'\n",
    "i = 6    \n",
    "print(remove(string,i))"
   ]
  },
  {
   "cell_type": "markdown",
   "id": "2b078af2-6e28-4095-8e4a-fcf35f0fe1f1",
   "metadata": {},
   "source": [
    "3. Write a Python program to split and join a string?"
   ]
  },
  {
   "cell_type": "code",
   "execution_count": 8,
   "id": "f1363ad7-842a-4156-8f00-e533873152f6",
   "metadata": {},
   "outputs": [
    {
     "name": "stdout",
     "output_type": "stream",
     "text": [
      "['Hello', 'iNeuron']\n",
      "Hello-iNeuron\n"
     ]
    }
   ],
   "source": [
    "s = 'Hello iNeuron'\n",
    "# print the string after split method\n",
    "print(s.split(\" \"))\n",
    "# print the string after join method\n",
    "print(\"-\".join(s.split()))"
   ]
  },
  {
   "cell_type": "markdown",
   "id": "8311f7e0-ed00-4e0e-904d-f932898d1482",
   "metadata": {},
   "source": [
    "4. Write a Python to check if a given string is binary string or not?"
   ]
  },
  {
   "cell_type": "code",
   "execution_count": 9,
   "id": "6ad80563-6986-4b1b-81b7-9cf42357c7c8",
   "metadata": {},
   "outputs": [
    {
     "name": "stdout",
     "output_type": "stream",
     "text": [
      "No, string is not binary\n",
      "No, string is not binary\n",
      "Yes, string is  binary\n"
     ]
    }
   ],
   "source": [
    "def check_binary(string):\n",
    "    t = '01'\n",
    "    count = 0\n",
    "    \n",
    "    for char in string:\n",
    "        if char not in t:\n",
    "            count = 1\n",
    "            break\n",
    "        else:\n",
    "            pass\n",
    "    if count:\n",
    "        print(\"No, string is not binary\")\n",
    "    else:\n",
    "        print(\"Yes, string is  binary\")\n",
    "\n",
    "str1 = 'Hello iNeoron'\n",
    "str2 = 'Hello 1001010'\n",
    "str3 = '10101011'\n",
    "\n",
    "check_binary(str1)\n",
    "check_binary(str2)\n",
    "check_binary(str3)"
   ]
  },
  {
   "cell_type": "markdown",
   "id": "b46f4999-5f93-4ec8-9f20-b7e13913d39c",
   "metadata": {},
   "source": [
    "5. Write a Python program to find uncommon words from two Strings?"
   ]
  },
  {
   "cell_type": "code",
   "execution_count": 10,
   "id": "5d32bd76-e94d-42f4-a09a-e841c1050726",
   "metadata": {},
   "outputs": [
    {
     "name": "stdout",
     "output_type": "stream",
     "text": [
      "['batch', 'FSDS']\n"
     ]
    }
   ],
   "source": [
    "def uncommon(a,b):\n",
    "    a=a.split()\n",
    "    b=b.split()\n",
    "    k=set(a).symmetric_difference(set(b))\n",
    "    return k\n",
    "\n",
    "a=\"Hello iNeuron\" \n",
    "b=\"Hello iNeuron FSDS batch\"\n",
    "print(list(uncommon(a,b)))"
   ]
  },
  {
   "cell_type": "markdown",
   "id": "b5f0b112-cc1a-46c2-854b-8ebae831af0a",
   "metadata": {},
   "source": [
    "6. Write a Python to find all duplicate characters in string?"
   ]
  },
  {
   "cell_type": "code",
   "execution_count": 18,
   "id": "bdbddb6a-618e-4d4e-9b7a-26b8721b724f",
   "metadata": {},
   "outputs": [
    {
     "name": "stdout",
     "output_type": "stream",
     "text": [
      "['e', 'l', 'o', ' ', 'S']\n"
     ]
    }
   ],
   "source": [
    "def duplicate(string):\n",
    "    \n",
    "    duplicates = []\n",
    "    for char in string:\n",
    "        if string.count(char) > 1:\n",
    "            if char not in duplicates:\n",
    "                duplicates.append(char)\n",
    "    print(duplicates)\n",
    "\n",
    "s = 'Hello iNeuron FSDS batch'\n",
    "duplicate(s)"
   ]
  },
  {
   "cell_type": "markdown",
   "id": "8a833634-6042-469b-80c1-1436d6c7d917",
   "metadata": {},
   "source": [
    "7. Write a Python Program to check if a string contains any special character?"
   ]
  },
  {
   "cell_type": "code",
   "execution_count": 20,
   "id": "a0f1582f-406d-44d1-b73d-750be639626d",
   "metadata": {},
   "outputs": [
    {
     "name": "stdout",
     "output_type": "stream",
     "text": [
      "String has  no special caracter\n",
      "String has special caracter\n"
     ]
    }
   ],
   "source": [
    "\n",
    "def special(n):\n",
    "    n.split()\n",
    "    c=0\n",
    "    s='[@_!#$%^&*()<>?/\\|}{~:]' # special character set\n",
    "    for i in range(len(n)):\n",
    "        if n[i] in s:\n",
    "            c+=1  \n",
    "   \n",
    "    if c:\n",
    "        print(\"String has special caracter\")\n",
    "    else:\n",
    "        print(\"String has no special caracter\")\n",
    "\n",
    "str1=\"Hello iNeuron FSDS batch\"\n",
    "str2=\"Hello@ineuron\"\n",
    "special(str1)\n",
    "special(str2)"
   ]
  },
  {
   "cell_type": "code",
   "execution_count": null,
   "id": "3d6debad-2c4c-4464-8428-f5a1bb7684cc",
   "metadata": {},
   "outputs": [],
   "source": []
  }
 ],
 "metadata": {
  "kernelspec": {
   "display_name": "Python 3 (ipykernel)",
   "language": "python",
   "name": "python3"
  },
  "language_info": {
   "codemirror_mode": {
    "name": "ipython",
    "version": 3
   },
   "file_extension": ".py",
   "mimetype": "text/x-python",
   "name": "python",
   "nbconvert_exporter": "python",
   "pygments_lexer": "ipython3",
   "version": "3.9.7"
  }
 },
 "nbformat": 4,
 "nbformat_minor": 5
}
