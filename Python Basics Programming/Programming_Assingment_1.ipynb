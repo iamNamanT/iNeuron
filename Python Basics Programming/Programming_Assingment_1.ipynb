{
 "cells": [
  {
   "cell_type": "markdown",
   "id": "8aaa7501-6d56-4875-9d8a-1f6548133f9f",
   "metadata": {},
   "source": [
    "# Programming Assingment 1\n",
    "1.\tWrite a Python program to print \"Hello Python\"?\n",
    "2.\tWrite a Python program to do arithmetical operations addition and division.?\n",
    "3.\tWrite a Python program to find the area of a triangle?\n",
    "4.\tWrite a Python program to swap two variables?\n",
    "5.\tWrite a Python program to generate a random number?\n"
   ]
  },
  {
   "cell_type": "code",
   "execution_count": 2,
   "id": "d0869b3c-dbed-4fa2-b0fb-d30617e5602d",
   "metadata": {},
   "outputs": [
    {
     "name": "stdout",
     "output_type": "stream",
     "text": [
      "Hello Python\n"
     ]
    }
   ],
   "source": [
    "# 1.\tWrite a Python program to print \"Hello Python\"?\n",
    "print(\"Hello Python\")"
   ]
  },
  {
   "cell_type": "code",
   "execution_count": 9,
   "id": "afa94a63-1bbd-4182-9425-e6830c94444c",
   "metadata": {},
   "outputs": [
    {
     "name": "stdin",
     "output_type": "stream",
     "text": [
      "Enter first number: 2\n",
      "Enter second number: 3\n"
     ]
    },
    {
     "name": "stdout",
     "output_type": "stream",
     "text": [
      "The sum of 2 and 3 is 5.0\n",
      "The division if 2 and 3 is 0.6666666666666666\n"
     ]
    }
   ],
   "source": [
    "# 2.\tWrite a Python program to do arithmetical operations addition and division.?\n",
    "a = input(\"Enter first number:\")\n",
    "b = input(\"Enter second number:\")\n",
    "#addition\n",
    "add = float(a) + float(b)\n",
    "#division\n",
    "div = float(a)/float(b)\n",
    "#display the output\n",
    "print('The sum of {0} and {1} is {2}'.format(a, b, add))  \n",
    "print('The division of {0} and {1} is {2}'.format(a,b,div))\n"
   ]
  },
  {
   "cell_type": "code",
   "execution_count": 14,
   "id": "d5129dca-9b03-4dbb-bca6-59360b525cac",
   "metadata": {},
   "outputs": [
    {
     "name": "stdin",
     "output_type": "stream",
     "text": [
      "Enter 1st side of triangle: 7\n",
      "Enter 2nd side of triangle: 8\n",
      "Enter 3rd side of triangle: 10\n"
     ]
    },
    {
     "name": "stdout",
     "output_type": "stream",
     "text": [
      "Area of traingle is 489.1648255572962 unit sqr\n"
     ]
    }
   ],
   "source": [
    "# 3.\tWrite a Python program to find the area of a triangle?\n",
    "a = float(input(\"Enter 1st side of triangle:\"))\n",
    "b = float(input(\"Enter 2nd side of triangle:\"))\n",
    "c = float(input(\"Enter 3rd side of triangle:\"))\n",
    "\n",
    "# semi perimeter of traingle\n",
    "s = float((a+b+c)/2)\n",
    "# area of traingle using heron's formula\n",
    "area = s*(s - a)*(s - b)*(s - c)**0.5\n",
    "\n",
    "print('Area of traingle is {0} unit sqr'.format(area))"
   ]
  },
  {
   "cell_type": "code",
   "execution_count": 15,
   "id": "e4825e22-f0c5-4d60-9ac2-45731e081d79",
   "metadata": {},
   "outputs": [
    {
     "name": "stdin",
     "output_type": "stream",
     "text": [
      "Enter value of x:  6\n",
      "Enter value of y:  5\n"
     ]
    },
    {
     "name": "stdout",
     "output_type": "stream",
     "text": [
      "The value of x after swapping: 5\n",
      "The value of y after swapping: 6\n"
     ]
    }
   ],
   "source": [
    "# 4.\tWrite a Python program to swap two variables?\n",
    "\n",
    "x = input('Enter value of x: ')\n",
    "y = input('Enter value of y: ')\n",
    "# create a temporary variable and swap the values\n",
    "temp = x\n",
    "x = y\n",
    "y = temp\n",
    "\n",
    "print('The value of x after swapping: {}'.format(x))\n",
    "print('The value of y after swapping: {}'.format(y))"
   ]
  },
  {
   "cell_type": "code",
   "execution_count": 19,
   "id": "92fe0d2a-7e8b-4738-a383-1906d4ff3550",
   "metadata": {},
   "outputs": [
    {
     "name": "stdout",
     "output_type": "stream",
     "text": [
      "0.01757020265022924\n"
     ]
    }
   ],
   "source": [
    "# 5.\tWrite a Python program to generate a random number?\n",
    "# To get random \n",
    "import random  \n",
    "n = random.random()  \n",
    "print(n)  "
   ]
  },
  {
   "cell_type": "code",
   "execution_count": null,
   "id": "9793eab8-f80b-4898-839f-cc8250242945",
   "metadata": {},
   "outputs": [],
   "source": []
  }
 ],
 "metadata": {
  "kernelspec": {
   "display_name": "Python 3 (ipykernel)",
   "language": "python",
   "name": "python3"
  },
  "language_info": {
   "codemirror_mode": {
    "name": "ipython",
    "version": 3
   },
   "file_extension": ".py",
   "mimetype": "text/x-python",
   "name": "python",
   "nbconvert_exporter": "python",
   "pygments_lexer": "ipython3",
   "version": "3.9.7"
  }
 },
 "nbformat": 4,
 "nbformat_minor": 5
}
