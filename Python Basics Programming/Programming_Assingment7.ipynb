{
 "cells": [
  {
   "cell_type": "code",
   "execution_count": 5,
   "id": "ca8bff29-e332-49f5-9809-7930ccbf1edc",
   "metadata": {},
   "outputs": [
    {
     "name": "stdout",
     "output_type": "stream",
     "text": [
      "Sum of all the elements of an array:  36\n"
     ]
    }
   ],
   "source": [
    "#1. Write a Python Program to find sum of array?\n",
    "arr=[4,6,7,2,8,9]\n",
    "sum = 0\n",
    "\n",
    "for i in range(0,len(arr)):\n",
    "    sum = sum + arr[i]\n",
    "print(\"Sum of all the elements of  array: \",sum);    "
   ]
  },
  {
   "cell_type": "code",
   "execution_count": 6,
   "id": "f829f019-6aba-47d3-86f6-1b7e98747fd6",
   "metadata": {},
   "outputs": [
    {
     "name": "stdout",
     "output_type": "stream",
     "text": [
      "Largest in given array is 2390\n"
     ]
    }
   ],
   "source": [
    "#2. Write a Python Program to find largest element in an array?\n",
    "def largest(arr,n):\n",
    "    max = arr[0]\n",
    "    for i in range(1,n):\n",
    "        if arr[i] > max:\n",
    "            max = arr[i]\n",
    "    return max \n",
    "\n",
    "arr = [10, 300, 450, 2390, 808]\n",
    "n = len(arr)\n",
    "Ans = largest(arr,n)\n",
    "print (\"Largest in given array is\",Ans)"
   ]
  },
  {
   "cell_type": "code",
   "execution_count": 16,
   "id": "38ba77c9-591f-413e-8ff9-2eb640e372a1",
   "metadata": {},
   "outputs": [
    {
     "name": "stdout",
     "output_type": "stream",
     "text": [
      "[3, 5, 78, 1, 7, 8]\n",
      "rotated array \n",
      " [78, 1, 7, 8, 3, 5]\n"
     ]
    }
   ],
   "source": [
    "#3. Write a Python Program for array rotation?\n",
    "def arrRotation(arr,rot):\n",
    "    l = len(arr)\n",
    "    arr[:] = arr[rot:l] + arr[0:rot]\n",
    "    return arr\n",
    "\n",
    "arr5 = [3,5,78,1,7,8]\n",
    "print(arr5)\n",
    "rot = 2\n",
    "print(\"rotated array \\n\",arrRotation(arr5,rot))"
   ]
  },
  {
   "cell_type": "code",
   "execution_count": 7,
   "id": "f7e5b9b5-2899-4990-be75-6fe0b8351a7d",
   "metadata": {},
   "outputs": [
    {
     "name": "stdout",
     "output_type": "stream",
     "text": [
      "2 8 3 6 9 "
     ]
    }
   ],
   "source": [
    "#4. Write a Python Program to Split the array and add the first part to the end?\n",
    "def splitArr(arr,l,pos):\n",
    "    \"\"\"Function for the array split and add the first part to the end\"\"\"\n",
    "    for i in range(0,pos):\n",
    "        x = arr[0]\n",
    "        for j in range(0,l-1):\n",
    "            arr[j] = arr[j+1]\n",
    "        arr[l-1] = x\n",
    "\n",
    "arr = [3,6,9,2,8]\n",
    "l = len(arr) # length of the array\n",
    "pos = 3 # possition from where the split happen\n",
    "splitArr(arr,l,pos)\n",
    "for i in range(0,l):\n",
    "    print(arr[i],end= ' ')"
   ]
  },
  {
   "cell_type": "code",
   "execution_count": 14,
   "id": "8933be70-6dae-4665-852b-1ba65a4bbf47",
   "metadata": {},
   "outputs": [
    {
     "name": "stdout",
     "output_type": "stream",
     "text": [
      "Array [3, 4, 5, 6, 2, 7] is montonic : False\n",
      "Array [1, 4, 6, 8, 10] is montonic : True\n"
     ]
    }
   ],
   "source": [
    "#5. Write a Python Program to check if given array is Monotonic?\n",
    "def isMonotonic(arr):\n",
    "    n = len(arr)\n",
    "    if n==1:\n",
    "        return True\n",
    "    else:\n",
    "        #check if the arr is monotonic or not\n",
    "        if all(arr[i]<=arr[i+1] for i in range(0,n-1) or arr[i]<arr[i-1] for i in range(0,n-1)):\n",
    "            return True\n",
    "        else:\n",
    "            return False\n",
    "\n",
    "arr1 = [3,4,5,6,2,7]\n",
    "print(\"Array {0} is montonic : {1}\".format(arr1,isMonotonic(arr1)))\n",
    "arr2 = [1,4,6,8,10]\n",
    "print(\"Array {0} is montonic : {1}\".format(arr2,isMonotonic(arr2)))\n"
   ]
  },
  {
   "cell_type": "code",
   "execution_count": null,
   "id": "bb95f039-47f1-4fcb-9822-84496b2b4e13",
   "metadata": {},
   "outputs": [],
   "source": []
  }
 ],
 "metadata": {
  "kernelspec": {
   "display_name": "Python 3 (ipykernel)",
   "language": "python",
   "name": "python3"
  },
  "language_info": {
   "codemirror_mode": {
    "name": "ipython",
    "version": 3
   },
   "file_extension": ".py",
   "mimetype": "text/x-python",
   "name": "python",
   "nbconvert_exporter": "python",
   "pygments_lexer": "ipython3",
   "version": "3.9.7"
  }
 },
 "nbformat": 4,
 "nbformat_minor": 5
}
