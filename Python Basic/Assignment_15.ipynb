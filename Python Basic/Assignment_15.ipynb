{
  "nbformat": 4,
  "nbformat_minor": 0,
  "metadata": {
    "colab": {
      "provenance": [],
      "authorship_tag": "ABX9TyMPr7iT3n+ibEL00jw7uAzh",
      "include_colab_link": true
    },
    "kernelspec": {
      "name": "python3",
      "display_name": "Python 3"
    },
    "language_info": {
      "name": "python"
    }
  },
  "cells": [
    {
      "cell_type": "markdown",
      "metadata": {
        "id": "view-in-github",
        "colab_type": "text"
      },
      "source": [
        "<a href=\"https://colab.research.google.com/github/iamNamanT/iNeuron/blob/main/Assignment_15.ipynb\" target=\"_parent\"><img src=\"https://colab.research.google.com/assets/colab-badge.svg\" alt=\"Open In Colab\"/></a>"
      ]
    },
    {
      "cell_type": "markdown",
      "source": [
        "# Question 1\n",
        "\n",
        "1.How many seconds are in an hour? Use the interactive interpreter as a calculator and multiply the\n",
        "number of seconds in a minute (60) by the number of minutes in an hour (also 60)."
      ],
      "metadata": {
        "id": "WVoA2S5E7aGl"
      }
    },
    {
      "cell_type": "code",
      "source": [
        "60*60"
      ],
      "metadata": {
        "colab": {
          "base_uri": "https://localhost:8080/"
        },
        "id": "5ijFQ8uQ7mca",
        "outputId": "3a5d4a1f-7431-4d11-c25a-3b552a63e832"
      },
      "execution_count": 3,
      "outputs": [
        {
          "output_type": "execute_result",
          "data": {
            "text/plain": [
              "3600"
            ]
          },
          "metadata": {},
          "execution_count": 3
        }
      ]
    },
    {
      "cell_type": "markdown",
      "source": [
        "# Question 2\n",
        "\n",
        "2. Assign the result from the previous task (seconds in an hour) to a variable called\n",
        "seconds_per_hour."
      ],
      "metadata": {
        "id": "iEmKj-iD7-Fu"
      }
    },
    {
      "cell_type": "code",
      "source": [
        "seconds_per_hour = 3600"
      ],
      "metadata": {
        "id": "4kDSkO_w8FOi"
      },
      "execution_count": 6,
      "outputs": []
    },
    {
      "cell_type": "markdown",
      "source": [
        "# Question 3\n",
        "3. How many seconds do you think there are in a day? Make use of the variables seconds per hour\n",
        "and minutes per hour."
      ],
      "metadata": {
        "id": "jQO9iaL28OnL"
      }
    },
    {
      "cell_type": "code",
      "source": [
        "24*seconds_per_hour"
      ],
      "metadata": {
        "colab": {
          "base_uri": "https://localhost:8080/"
        },
        "id": "KAIVqUbm8HVw",
        "outputId": "bcb95dbb-89fc-4127-e685-862b1f1cbb95"
      },
      "execution_count": 9,
      "outputs": [
        {
          "output_type": "execute_result",
          "data": {
            "text/plain": [
              "86400"
            ]
          },
          "metadata": {},
          "execution_count": 9
        }
      ]
    },
    {
      "cell_type": "markdown",
      "source": [
        "# Question 4\n",
        "4. Calculate seconds per day again, but this time save the result in a variable called seconds_per_day"
      ],
      "metadata": {
        "id": "3UdelTUg9Jr1"
      }
    },
    {
      "cell_type": "code",
      "source": [
        "seconds_in_day= 24*seconds_per_hour\n",
        "seconds_in_day"
      ],
      "metadata": {
        "colab": {
          "base_uri": "https://localhost:8080/"
        },
        "id": "LE8bf8ni9IXa",
        "outputId": "203f18fe-c38c-4fef-d65d-3b6fd74196a7"
      },
      "execution_count": 11,
      "outputs": [
        {
          "output_type": "execute_result",
          "data": {
            "text/plain": [
              "86400"
            ]
          },
          "metadata": {},
          "execution_count": 11
        }
      ]
    },
    {
      "cell_type": "markdown",
      "source": [
        "# Question 5\n",
        "5. Divide seconds_per_day by seconds_per_hour. Use floating-point (/) division."
      ],
      "metadata": {
        "id": "MHorC4qS9ngy"
      }
    },
    {
      "cell_type": "code",
      "source": [
        "seconds_in_day/seconds_per_hour"
      ],
      "metadata": {
        "colab": {
          "base_uri": "https://localhost:8080/"
        },
        "id": "QUo8Q1Gy9Anj",
        "outputId": "71d25ff9-8796-477a-c4f1-4208511d3806"
      },
      "execution_count": 12,
      "outputs": [
        {
          "output_type": "execute_result",
          "data": {
            "text/plain": [
              "24.0"
            ]
          },
          "metadata": {},
          "execution_count": 12
        }
      ]
    },
    {
      "cell_type": "code",
      "source": [],
      "metadata": {
        "id": "VCavkI5S_sB_"
      },
      "execution_count": null,
      "outputs": []
    },
    {
      "cell_type": "markdown",
      "source": [
        "# Question 6\n",
        "6. Divide seconds_per_day by seconds_per_hour, using integer (//) division. Did this number agree\n",
        "with the floating-point value from the previous question, aside from the final .0?"
      ],
      "metadata": {
        "id": "q2gVcbcq_zdi"
      }
    },
    {
      "cell_type": "code",
      "source": [
        "seconds_in_day//seconds_per_hour"
      ],
      "metadata": {
        "colab": {
          "base_uri": "https://localhost:8080/"
        },
        "id": "mJ-aBs3R_3HY",
        "outputId": "47c03667-e41f-4021-bb28-25a527823fcd"
      },
      "execution_count": 13,
      "outputs": [
        {
          "output_type": "execute_result",
          "data": {
            "text/plain": [
              "24"
            ]
          },
          "metadata": {},
          "execution_count": 13
        }
      ]
    },
    {
      "cell_type": "markdown",
      "source": [
        "Yes"
      ],
      "metadata": {
        "id": "jUHNWXxy_9cW"
      }
    },
    {
      "cell_type": "markdown",
      "source": [
        "# Quesiton 7\n",
        "7. Write a generator, genPrimes, that returns the sequence of prime numbers on successive calls to\n",
        "its next() method: 2, 3, 5, 7, 11, ..."
      ],
      "metadata": {
        "id": "HifQoPZ6AAh9"
      }
    },
    {
      "cell_type": "code",
      "source": [
        "def genPrimes(n):\n",
        "  num=2\n",
        "  while n:\n",
        "    if isPrime(num):\n",
        "      yield(num)\n",
        "      n-=1\n",
        "    num+=1\n",
        "\n",
        "def isPrime(num):\n",
        "  for i in range(2,num):\n",
        "    if num%i==0:\n",
        "      return False\n",
        "  return True\n",
        "\n",
        "it = genPrimes(10)\n",
        "for e in it:\n",
        "  print(e,end=' ')\n",
        "    "
      ],
      "metadata": {
        "colab": {
          "base_uri": "https://localhost:8080/"
        },
        "id": "zOBJTeYZ_7YZ",
        "outputId": "1227e1f7-ef40-45fa-efb4-b2de5fe77611"
      },
      "execution_count": 26,
      "outputs": [
        {
          "output_type": "stream",
          "name": "stdout",
          "text": [
            "2 3 5 7 11 13 17 19 23 29 "
          ]
        }
      ]
    },
    {
      "cell_type": "code",
      "source": [],
      "metadata": {
        "id": "2w4vFiSZFIo0"
      },
      "execution_count": null,
      "outputs": []
    }
  ]
}
